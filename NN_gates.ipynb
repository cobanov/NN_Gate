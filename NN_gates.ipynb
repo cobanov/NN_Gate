{
 "cells": [
  {
   "cell_type": "code",
   "execution_count": 1,
   "metadata": {},
   "outputs": [
    {
     "name": "stderr",
     "output_type": "stream",
     "text": [
      "Using TensorFlow backend.\n"
     ]
    }
   ],
   "source": [
    "import keras\n",
    "import numpy as np"
   ]
  },
  {
   "cell_type": "markdown",
   "metadata": {},
   "source": [
    "# AND Gate"
   ]
  },
  {
   "cell_type": "markdown",
   "metadata": {},
   "source": [
    "# Build Model"
   ]
  },
  {
   "cell_type": "code",
   "execution_count": 2,
   "metadata": {},
   "outputs": [],
   "source": [
    "model_and = keras.Sequential()\n",
    "model_and.add(keras.layers.Dense(units=2, input_shape=[2]))\n",
    "model_and.add(keras.layers.Dense(units=1))"
   ]
  },
  {
   "cell_type": "code",
   "execution_count": 3,
   "metadata": {},
   "outputs": [],
   "source": [
    "model_and.compile(optimizer=\"sgd\", loss=\"mean_squared_error\")"
   ]
  },
  {
   "cell_type": "code",
   "execution_count": 4,
   "metadata": {},
   "outputs": [],
   "source": [
    "xs_and = np.array([[0.0, 0.0], [0.0, 1.0], [1.0, 0.0], [1.0, 1.0]], dtype = float)"
   ]
  },
  {
   "cell_type": "code",
   "execution_count": 5,
   "metadata": {},
   "outputs": [],
   "source": [
    "ys_and = np.array([[0.0], [0.0], [0.0], [1.0]], dtype = float)"
   ]
  },
  {
   "cell_type": "code",
   "execution_count": 6,
   "metadata": {},
   "outputs": [
    {
     "data": {
      "text/plain": [
       "<keras.callbacks.History at 0x23218abbda0>"
      ]
     },
     "execution_count": 6,
     "metadata": {},
     "output_type": "execute_result"
    }
   ],
   "source": [
    "model_and.fit(xs_and, ys_and, epochs=300, verbose=0)"
   ]
  },
  {
   "cell_type": "code",
   "execution_count": 7,
   "metadata": {},
   "outputs": [],
   "source": [
    "def prediction_and(pred):\n",
    "    x = model_and.predict(pred)\n",
    "    print(x)\n",
    "    if x > 0.5:\n",
    "        print(\"It's True\\n\")\n",
    "    else:\n",
    "        print(\"It's False\\n\")"
   ]
  },
  {
   "cell_type": "code",
   "execution_count": 8,
   "metadata": {},
   "outputs": [],
   "source": [
    "pred_zero_zero = np.array([[0.0,0.0]]) # Expecting False\n",
    "pred_zero_one = np.array([[0.0,1.0]])\n",
    "pred_one_zero = np.array([[1.0,0.0]])\n",
    "pred_one_one = np.array([[1.0,1.0]])\n",
    "predictions = [pred_zero_zero, pred_zero_one, pred_one_zero, pred_one_one]"
   ]
  },
  {
   "cell_type": "code",
   "execution_count": 9,
   "metadata": {},
   "outputs": [
    {
     "name": "stdout",
     "output_type": "stream",
     "text": [
      "[[-0.23708118]]\n",
      "It's False\n",
      "\n",
      "[[0.24985227]]\n",
      "It's False\n",
      "\n",
      "[[0.2538097]]\n",
      "It's False\n",
      "\n",
      "[[0.7407431]]\n",
      "It's True\n",
      "\n"
     ]
    }
   ],
   "source": [
    "for pred in predictions:\n",
    "    prediction_and(pred)"
   ]
  },
  {
   "cell_type": "markdown",
   "metadata": {},
   "source": [
    "# OR Gate"
   ]
  },
  {
   "cell_type": "code",
   "execution_count": 10,
   "metadata": {},
   "outputs": [],
   "source": [
    "model_or = keras.Sequential()\n",
    "model_or.add(keras.layers.Dense(units=2, input_shape=[2]))\n",
    "model_or.add(keras.layers.Dense(units=1))"
   ]
  },
  {
   "cell_type": "code",
   "execution_count": 11,
   "metadata": {},
   "outputs": [],
   "source": [
    "model_or.compile(optimizer=\"sgd\", loss=\"mean_squared_error\")"
   ]
  },
  {
   "cell_type": "code",
   "execution_count": 12,
   "metadata": {},
   "outputs": [],
   "source": [
    "xs_or = np.array([[0.0, 0.0], [0.0, 1.0], [1.0, 0.0], [1.0, 1.0]], dtype = float)"
   ]
  },
  {
   "cell_type": "code",
   "execution_count": 13,
   "metadata": {},
   "outputs": [],
   "source": [
    "ys_or = np.array([[0.0], [1.0], [1.0], [1.0]], dtype = float)"
   ]
  },
  {
   "cell_type": "code",
   "execution_count": 14,
   "metadata": {},
   "outputs": [
    {
     "data": {
      "text/plain": [
       "<keras.callbacks.History at 0x23219cecb00>"
      ]
     },
     "execution_count": 14,
     "metadata": {},
     "output_type": "execute_result"
    }
   ],
   "source": [
    "model_or.fit(xs_or, ys_or, epochs=300, verbose=0)"
   ]
  },
  {
   "cell_type": "code",
   "execution_count": 15,
   "metadata": {},
   "outputs": [],
   "source": [
    "pred_zero_zero = np.array([[0.0,0.0]]) # Expecting False\n",
    "pred_zero_one = np.array([[0.0,1.0]])\n",
    "pred_one_zero = np.array([[1.0,0.0]])\n",
    "pred_one_one = np.array([[1.0,1.0]])\n",
    "predictions = [pred_zero_zero, pred_zero_one, pred_one_zero, pred_one_one]"
   ]
  },
  {
   "cell_type": "code",
   "execution_count": 16,
   "metadata": {},
   "outputs": [],
   "source": [
    "def prediction_or(pred):\n",
    "    x = model_or.predict(pred)\n",
    "    print(x)\n",
    "    if x > 0.5:\n",
    "        print(\"It's True\\n\")\n",
    "    else:\n",
    "        print(\"It's False\\n\")"
   ]
  },
  {
   "cell_type": "code",
   "execution_count": 17,
   "metadata": {},
   "outputs": [
    {
     "name": "stdout",
     "output_type": "stream",
     "text": [
      "[[0.21124148]]\n",
      "It's False\n",
      "\n",
      "[[0.74077094]]\n",
      "It's True\n",
      "\n",
      "[[0.7484725]]\n",
      "It's True\n",
      "\n",
      "[[1.278002]]\n",
      "It's True\n",
      "\n"
     ]
    }
   ],
   "source": [
    "for pred in predictions:\n",
    "    prediction_or(pred)"
   ]
  },
  {
   "cell_type": "markdown",
   "metadata": {},
   "source": [
    "# XOR Gate"
   ]
  },
  {
   "cell_type": "markdown",
   "metadata": {},
   "source": [
    "# Create Deeper Model"
   ]
  },
  {
   "cell_type": "code",
   "execution_count": 18,
   "metadata": {},
   "outputs": [],
   "source": [
    "model_xor = keras.Sequential()\n",
    "model_xor.add(keras.layers.Dense(units=16, input_shape=[2],activation=\"relu\"))\n",
    "model_xor.add(keras.layers.Dense(units=1))\n"
   ]
  },
  {
   "cell_type": "code",
   "execution_count": 19,
   "metadata": {},
   "outputs": [],
   "source": [
    "model_xor.compile(optimizer=\"sgd\", loss=\"mean_squared_error\")"
   ]
  },
  {
   "cell_type": "code",
   "execution_count": 20,
   "metadata": {},
   "outputs": [],
   "source": [
    "xs_xor = np.array([[0.0, 0.0], [0.0, 1.0], [1.0, 0.0], [1.0, 1.0]], dtype = float)"
   ]
  },
  {
   "cell_type": "code",
   "execution_count": 21,
   "metadata": {},
   "outputs": [],
   "source": [
    "ys_xor = np.array([[0.0], [1.0], [1.0], [0.0]], dtype = float)"
   ]
  },
  {
   "cell_type": "code",
   "execution_count": 22,
   "metadata": {},
   "outputs": [
    {
     "data": {
      "text/plain": [
       "<keras.callbacks.History at 0x23219effeb8>"
      ]
     },
     "execution_count": 22,
     "metadata": {},
     "output_type": "execute_result"
    }
   ],
   "source": [
    "model_xor.fit(xs_xor, ys_xor, epochs=300, verbose=0)"
   ]
  },
  {
   "cell_type": "code",
   "execution_count": 23,
   "metadata": {},
   "outputs": [],
   "source": [
    "pred_zero_zero = np.array([[0.0,0.0]]) # Expecting False\n",
    "pred_zero_one = np.array([[0.0,1.0]])\n",
    "pred_one_zero = np.array([[1.0,0.0]])\n",
    "pred_one_one = np.array([[1.0,1.0]])\n",
    "predictions = [pred_zero_zero, pred_zero_one, pred_one_zero, pred_one_one]"
   ]
  },
  {
   "cell_type": "code",
   "execution_count": 24,
   "metadata": {},
   "outputs": [],
   "source": [
    "def prediction_xor(pred):\n",
    "    x = model_xor.predict(pred)\n",
    "    print(x)\n",
    "    if x > 0.5:\n",
    "        print(\"It's True\\n\")\n",
    "    else:\n",
    "        print(\"It's False\\n\")"
   ]
  },
  {
   "cell_type": "code",
   "execution_count": 25,
   "metadata": {},
   "outputs": [
    {
     "name": "stdout",
     "output_type": "stream",
     "text": [
      "[[0.20086299]]\n",
      "It's False\n",
      "\n",
      "[[0.7419428]]\n",
      "It's True\n",
      "\n",
      "[[0.8622172]]\n",
      "It's True\n",
      "\n",
      "[[0.23409545]]\n",
      "It's False\n",
      "\n"
     ]
    }
   ],
   "source": [
    "for pred in predictions:\n",
    "    prediction_xor(pred)"
   ]
  },
  {
   "cell_type": "code",
   "execution_count": null,
   "metadata": {},
   "outputs": [],
   "source": []
  }
 ],
 "metadata": {
  "kernelspec": {
   "display_name": "Python 3",
   "language": "python",
   "name": "python3"
  },
  "language_info": {
   "codemirror_mode": {
    "name": "ipython",
    "version": 3
   },
   "file_extension": ".py",
   "mimetype": "text/x-python",
   "name": "python",
   "nbconvert_exporter": "python",
   "pygments_lexer": "ipython3",
   "version": "3.6.7"
  }
 },
 "nbformat": 4,
 "nbformat_minor": 2
}
