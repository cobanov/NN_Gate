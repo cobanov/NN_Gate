{
 "cells": [
  {
   "cell_type": "code",
   "execution_count": 1,
   "metadata": {},
   "outputs": [
    {
     "name": "stderr",
     "output_type": "stream",
     "text": [
      "Using TensorFlow backend.\n"
     ]
    }
   ],
   "source": [
    "import keras\n",
    "import numpy as np"
   ]
  },
  {
   "cell_type": "markdown",
   "metadata": {},
   "source": [
    "# AND Gate"
   ]
  },
  {
   "cell_type": "markdown",
   "metadata": {},
   "source": [
    "# Build Model"
   ]
  },
  {
   "cell_type": "code",
   "execution_count": 2,
   "metadata": {},
   "outputs": [],
   "source": [
    "model_and = keras.Sequential()\n",
    "model_and.add(keras.layers.Dense(units=2, input_shape=[2]))\n",
    "model_and.add(keras.layers.Dense(units=1))"
   ]
  },
  {
   "cell_type": "code",
   "execution_count": 3,
   "metadata": {},
   "outputs": [],
   "source": [
    "model_and.compile(optimizer=\"sgd\", loss=\"mean_squared_error\", metrics=[\"accuracy\"])"
   ]
  },
  {
   "cell_type": "code",
   "execution_count": 4,
   "metadata": {},
   "outputs": [],
   "source": [
    "xs_and = np.array([[0.0, 0.0], [0.0, 1.0], [1.0, 0.0], [1.0, 1.0]], dtype = float)"
   ]
  },
  {
   "cell_type": "code",
   "execution_count": 5,
   "metadata": {},
   "outputs": [],
   "source": [
    "ys_and = np.array([[0.0], [0.0], [0.0], [1.0]], dtype = float)"
   ]
  },
  {
   "cell_type": "code",
   "execution_count": 6,
   "metadata": {},
   "outputs": [
    {
     "data": {
      "text/plain": [
       "<keras.callbacks.History at 0x24759d0feb8>"
      ]
     },
     "execution_count": 6,
     "metadata": {},
     "output_type": "execute_result"
    }
   ],
   "source": [
    "model_and.fit(xs_and, ys_and, epochs=300, verbose=0)"
   ]
  },
  {
   "cell_type": "code",
   "execution_count": 7,
   "metadata": {},
   "outputs": [],
   "source": [
    "def prediction_and(pred):\n",
    "    x = model_and.predict(pred)\n",
    "    print(x)\n",
    "    if x > 0.5:\n",
    "        print(\"It's True\\n\")\n",
    "    else:\n",
    "        print(\"It's False\\n\")"
   ]
  },
  {
   "cell_type": "code",
   "execution_count": 8,
   "metadata": {},
   "outputs": [],
   "source": [
    "pred_zero_zero = np.array([[0.0,0.0]]) # Expecting False\n",
    "pred_zero_one = np.array([[0.0,1.0]])\n",
    "pred_one_zero = np.array([[1.0,0.0]])\n",
    "pred_one_one = np.array([[1.0,1.0]])\n",
    "predictions = [pred_zero_zero, pred_zero_one, pred_one_zero, pred_one_one]"
   ]
  },
  {
   "cell_type": "code",
   "execution_count": 9,
   "metadata": {},
   "outputs": [
    {
     "name": "stdout",
     "output_type": "stream",
     "text": [
      "[[-0.05706216]]\n",
      "It's False\n",
      "\n",
      "[[0.26258296]]\n",
      "It's False\n",
      "\n",
      "[[0.30216542]]\n",
      "It's False\n",
      "\n",
      "[[0.62181056]]\n",
      "It's True\n",
      "\n"
     ]
    }
   ],
   "source": [
    "for pred in predictions:\n",
    "    prediction_and(pred)"
   ]
  },
  {
   "cell_type": "code",
   "execution_count": 10,
   "metadata": {},
   "outputs": [
    {
     "name": "stdout",
     "output_type": "stream",
     "text": [
      "_________________________________________________________________\n",
      "Layer (type)                 Output Shape              Param #   \n",
      "=================================================================\n",
      "dense_1 (Dense)              (None, 2)                 6         \n",
      "_________________________________________________________________\n",
      "dense_2 (Dense)              (None, 1)                 3         \n",
      "=================================================================\n",
      "Total params: 9\n",
      "Trainable params: 9\n",
      "Non-trainable params: 0\n",
      "_________________________________________________________________\n"
     ]
    }
   ],
   "source": [
    "model_and.summary()"
   ]
  },
  {
   "cell_type": "code",
   "execution_count": 11,
   "metadata": {},
   "outputs": [
    {
     "name": "stdout",
     "output_type": "stream",
     "text": [
      "[[ 0.60182095  1.2522686 ]\n",
      " [-1.1883816   0.21619698]]\n",
      "[ 0.05427385 -0.06840149]\n"
     ]
    }
   ],
   "source": [
    "first_layer_weights_and = model_and.layers[0].get_weights()[0]\n",
    "first_layer_biases_and  = model_and.layers[0].get_weights()[1]\n",
    "print(first_layer_weights_and)\n",
    "print(first_layer_biases_and)"
   ]
  },
  {
   "cell_type": "code",
   "execution_count": 12,
   "metadata": {},
   "outputs": [
    {
     "name": "stdout",
     "output_type": "stream",
     "text": [
      "[[-0.19935776]\n",
      " [ 0.38266972]]\n",
      "[-0.02006707]\n"
     ]
    }
   ],
   "source": [
    "second_layer_weights_and = model_and.layers[1].get_weights()[0]\n",
    "second_layer_biases_and  = model_and.layers[1].get_weights()[1]\n",
    "print(second_layer_weights_and)\n",
    "print(second_layer_biases_and)"
   ]
  },
  {
   "cell_type": "markdown",
   "metadata": {},
   "source": [
    "# OR Gate"
   ]
  },
  {
   "cell_type": "code",
   "execution_count": 13,
   "metadata": {},
   "outputs": [],
   "source": [
    "model_or = keras.Sequential()\n",
    "model_or.add(keras.layers.Dense(units=2, input_shape=[2]))\n",
    "model_or.add(keras.layers.Dense(units=1))"
   ]
  },
  {
   "cell_type": "code",
   "execution_count": 14,
   "metadata": {},
   "outputs": [],
   "source": [
    "model_or.compile(optimizer=\"sgd\", loss=\"mean_squared_error\", metrics=[\"accuracy\"])"
   ]
  },
  {
   "cell_type": "code",
   "execution_count": 15,
   "metadata": {},
   "outputs": [],
   "source": [
    "xs_or = np.array([[0.0, 0.0], [0.0, 1.0], [1.0, 0.0], [1.0, 1.0]], dtype = float)"
   ]
  },
  {
   "cell_type": "code",
   "execution_count": 16,
   "metadata": {},
   "outputs": [],
   "source": [
    "ys_or = np.array([[0.0], [1.0], [1.0], [1.0]], dtype = float)"
   ]
  },
  {
   "cell_type": "code",
   "execution_count": 17,
   "metadata": {},
   "outputs": [
    {
     "data": {
      "text/plain": [
       "<keras.callbacks.History at 0x24759f34ac8>"
      ]
     },
     "execution_count": 17,
     "metadata": {},
     "output_type": "execute_result"
    }
   ],
   "source": [
    "model_or.fit(xs_or, ys_or, epochs=300, verbose=0)"
   ]
  },
  {
   "cell_type": "code",
   "execution_count": 18,
   "metadata": {},
   "outputs": [],
   "source": [
    "pred_zero_zero = np.array([[0.0,0.0]]) # Expecting False\n",
    "pred_zero_one = np.array([[0.0,1.0]])\n",
    "pred_one_zero = np.array([[1.0,0.0]])\n",
    "pred_one_one = np.array([[1.0,1.0]])\n",
    "predictions = [pred_zero_zero, pred_zero_one, pred_one_zero, pred_one_one]"
   ]
  },
  {
   "cell_type": "code",
   "execution_count": 19,
   "metadata": {},
   "outputs": [],
   "source": [
    "def prediction_or(pred):\n",
    "    x = model_or.predict(pred)\n",
    "    print(x)\n",
    "    if x > 0.5:\n",
    "        print(\"It's True\\n\")\n",
    "    else:\n",
    "        print(\"It's False\\n\")"
   ]
  },
  {
   "cell_type": "code",
   "execution_count": 20,
   "metadata": {},
   "outputs": [
    {
     "name": "stdout",
     "output_type": "stream",
     "text": [
      "[[0.25534093]]\n",
      "It's False\n",
      "\n",
      "[[0.771446]]\n",
      "It's True\n",
      "\n",
      "[[0.73091274]]\n",
      "It's True\n",
      "\n",
      "[[1.2470179]]\n",
      "It's True\n",
      "\n"
     ]
    }
   ],
   "source": [
    "for pred in predictions:\n",
    "    prediction_or(pred)"
   ]
  },
  {
   "cell_type": "code",
   "execution_count": 21,
   "metadata": {},
   "outputs": [
    {
     "name": "stdout",
     "output_type": "stream",
     "text": [
      "_________________________________________________________________\n",
      "Layer (type)                 Output Shape              Param #   \n",
      "=================================================================\n",
      "dense_3 (Dense)              (None, 2)                 6         \n",
      "_________________________________________________________________\n",
      "dense_4 (Dense)              (None, 1)                 3         \n",
      "=================================================================\n",
      "Total params: 9\n",
      "Trainable params: 9\n",
      "Non-trainable params: 0\n",
      "_________________________________________________________________\n"
     ]
    }
   ],
   "source": [
    "model_or.summary()"
   ]
  },
  {
   "cell_type": "code",
   "execution_count": 22,
   "metadata": {},
   "outputs": [
    {
     "name": "stdout",
     "output_type": "stream",
     "text": [
      "[[ 0.5916414  -0.7401769 ]\n",
      " [ 0.03368266 -0.4204219 ]]\n",
      "[-0.1043414  -0.08111769]\n"
     ]
    }
   ],
   "source": [
    "first_layer_weights_or = model_or.layers[0].get_weights()[0]\n",
    "first_layer_biases_or  = model_or.layers[0].get_weights()[1]\n",
    "print(first_layer_weights_or)\n",
    "print(first_layer_biases_or)"
   ]
  },
  {
   "cell_type": "code",
   "execution_count": 23,
   "metadata": {},
   "outputs": [
    {
     "name": "stdout",
     "output_type": "stream",
     "text": [
      "[[-0.81350243]\n",
      " [-1.2927634 ]]\n",
      "[0.06559297]\n"
     ]
    }
   ],
   "source": [
    "second_layer_weights_or = model_or.layers[1].get_weights()[0]\n",
    "second_layer_biases_or  = model_or.layers[1].get_weights()[1]\n",
    "print(second_layer_weights_or)\n",
    "print(second_layer_biases_or)"
   ]
  },
  {
   "cell_type": "markdown",
   "metadata": {},
   "source": [
    "# XOR Gate"
   ]
  },
  {
   "cell_type": "markdown",
   "metadata": {},
   "source": [
    "# Create Deeper Model"
   ]
  },
  {
   "cell_type": "code",
   "execution_count": 24,
   "metadata": {},
   "outputs": [],
   "source": [
    "model_xor = keras.Sequential()\n",
    "model_xor.add(keras.layers.Dense(units=16, input_shape=[2],activation=\"relu\"))\n",
    "model_xor.add(keras.layers.Dense(units=1))\n"
   ]
  },
  {
   "cell_type": "code",
   "execution_count": 25,
   "metadata": {},
   "outputs": [],
   "source": [
    "model_xor.compile(optimizer=\"sgd\", loss=\"mean_squared_error\")"
   ]
  },
  {
   "cell_type": "code",
   "execution_count": 26,
   "metadata": {},
   "outputs": [],
   "source": [
    "xs_xor = np.array([[0.0, 0.0], [0.0, 1.0], [1.0, 0.0], [1.0, 1.0]], dtype = float)"
   ]
  },
  {
   "cell_type": "code",
   "execution_count": 27,
   "metadata": {},
   "outputs": [],
   "source": [
    "ys_xor = np.array([[0.0], [1.0], [1.0], [0.0]], dtype = float)"
   ]
  },
  {
   "cell_type": "code",
   "execution_count": 28,
   "metadata": {},
   "outputs": [
    {
     "data": {
      "text/plain": [
       "<keras.callbacks.History at 0x2475a1bd860>"
      ]
     },
     "execution_count": 28,
     "metadata": {},
     "output_type": "execute_result"
    }
   ],
   "source": [
    "model_xor.fit(xs_xor, ys_xor, epochs=300, verbose=0)"
   ]
  },
  {
   "cell_type": "code",
   "execution_count": 29,
   "metadata": {},
   "outputs": [],
   "source": [
    "pred_zero_zero = np.array([[0.0,0.0]]) # Expecting False\n",
    "pred_zero_one = np.array([[0.0,1.0]])\n",
    "pred_one_zero = np.array([[1.0,0.0]])\n",
    "pred_one_one = np.array([[1.0,1.0]])\n",
    "predictions = [pred_zero_zero, pred_zero_one, pred_one_zero, pred_one_one]"
   ]
  },
  {
   "cell_type": "code",
   "execution_count": 30,
   "metadata": {},
   "outputs": [],
   "source": [
    "def prediction_xor(pred):\n",
    "    x = model_xor.predict(pred)\n",
    "    print(x)\n",
    "    if x > 0.5:\n",
    "        print(\"It's True\\n\")\n",
    "    else:\n",
    "        print(\"It's False\\n\")"
   ]
  },
  {
   "cell_type": "code",
   "execution_count": 31,
   "metadata": {},
   "outputs": [
    {
     "name": "stdout",
     "output_type": "stream",
     "text": [
      "[[0.23971254]]\n",
      "It's False\n",
      "\n",
      "[[0.79198146]]\n",
      "It's True\n",
      "\n",
      "[[0.7635665]]\n",
      "It's True\n",
      "\n",
      "[[0.2520019]]\n",
      "It's False\n",
      "\n"
     ]
    }
   ],
   "source": [
    "for pred in predictions:\n",
    "    prediction_xor(pred)"
   ]
  },
  {
   "cell_type": "code",
   "execution_count": 32,
   "metadata": {},
   "outputs": [
    {
     "name": "stdout",
     "output_type": "stream",
     "text": [
      "_________________________________________________________________\n",
      "Layer (type)                 Output Shape              Param #   \n",
      "=================================================================\n",
      "dense_5 (Dense)              (None, 16)                48        \n",
      "_________________________________________________________________\n",
      "dense_6 (Dense)              (None, 1)                 17        \n",
      "=================================================================\n",
      "Total params: 65\n",
      "Trainable params: 65\n",
      "Non-trainable params: 0\n",
      "_________________________________________________________________\n"
     ]
    }
   ],
   "source": [
    "model_xor.summary()"
   ]
  },
  {
   "cell_type": "code",
   "execution_count": 33,
   "metadata": {},
   "outputs": [
    {
     "name": "stdout",
     "output_type": "stream",
     "text": [
      "[[ 0.02609078  0.5350088   0.22679444 -0.28639218 -0.42604232 -0.5676116\n",
      "   0.00874856 -0.5015593  -0.5188984   0.29626414 -0.29197574 -0.57739455\n",
      "  -0.1904482  -0.44549558 -0.1397056   0.47997966]\n",
      " [-0.41616338 -0.5812217   0.46768355 -0.31930524  0.42540032  0.10751484\n",
      "  -0.31345755  0.47595897 -0.3278944   0.315862   -0.10774291  0.5563244\n",
      "   0.5368933  -0.19049442 -0.0278483   0.5424274 ]]\n",
      "[-0.02777906  0.04606427 -0.03655557  0.         -0.00041479 -0.10754446\n",
      " -0.00901201  0.02488216  0.         -0.24985166  0.          0.02120394\n",
      " -0.02947204  0.          0.          0.06644905]\n"
     ]
    }
   ],
   "source": [
    "first_layer_weights_xor = model_xor.layers[0].get_weights()[0]\n",
    "first_layer_biases_xor  = model_xor.layers[0].get_weights()[1]\n",
    "print(first_layer_weights_xor)\n",
    "print(first_layer_biases_xor)"
   ]
  },
  {
   "cell_type": "code",
   "execution_count": 34,
   "metadata": {},
   "outputs": [
    {
     "name": "stdout",
     "output_type": "stream",
     "text": [
      "[[-0.3579152 ]\n",
      " [ 0.7464163 ]\n",
      " [-0.09092982]\n",
      " [ 0.21970135]\n",
      " [ 0.4039354 ]\n",
      " [-0.2912604 ]\n",
      " [-0.5337508 ]\n",
      " [ 0.42790964]\n",
      " [-0.5494316 ]\n",
      " [-0.50398195]\n",
      " [ 0.12683761]\n",
      " [ 0.37823096]\n",
      " [-0.26491764]\n",
      " [-0.13782635]\n",
      " [-0.46975005]\n",
      " [ 0.38308176]]\n",
      "[0.16120669]\n"
     ]
    }
   ],
   "source": [
    "second_layer_weights_xor = model_xor.layers[1].get_weights()[0]\n",
    "second_layer_biases_xor  = model_xor.layers[1].get_weights()[1]\n",
    "print(second_layer_weights_xor)\n",
    "print(second_layer_biases_xor)"
   ]
  },
  {
   "cell_type": "code",
   "execution_count": null,
   "metadata": {},
   "outputs": [],
   "source": []
  }
 ],
 "metadata": {
  "kernelspec": {
   "display_name": "Python 3",
   "language": "python",
   "name": "python3"
  },
  "language_info": {
   "codemirror_mode": {
    "name": "ipython",
    "version": 3
   },
   "file_extension": ".py",
   "mimetype": "text/x-python",
   "name": "python",
   "nbconvert_exporter": "python",
   "pygments_lexer": "ipython3",
   "version": "3.6.7"
  }
 },
 "nbformat": 4,
 "nbformat_minor": 2
}
